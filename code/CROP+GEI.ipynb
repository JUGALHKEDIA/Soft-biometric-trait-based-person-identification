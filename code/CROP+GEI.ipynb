{
 "cells": [
  {
   "cell_type": "code",
   "execution_count": null,
   "metadata": {},
   "outputs": [],
   "source": [
    "import cv2\n",
    "import numpy as np\n",
    "import os\n",
    "import PIL\n",
    "from PIL import Image\n",
    "import matplotlib.pyplot as plt\n",
    "%matplotlib inline\n",
    "import time"
   ]
  },
  {
   "cell_type": "code",
   "execution_count": null,
   "metadata": {},
   "outputs": [],
   "source": [
    "parent_dir = './silh⁩/'\n",
    "path_to_store ='./Croped/' "
   ]
  },
  {
   "cell_type": "code",
   "execution_count": null,
   "metadata": {},
   "outputs": [],
   "source": [
    "pic_num = 0\n",
    "img_arr = 0\n",
    "flag = 1\n",
    "path_image = []"
   ]
  },
  {
   "cell_type": "code",
   "execution_count": null,
   "metadata": {
    "scrolled": true
   },
   "outputs": [],
   "source": [
    "#GOD CODE WORKING LIKE HELL\n",
    "\n",
    "\n",
    "for name in os.listdir(parent_dir):\n",
    "   \n",
    "    name = name +'/'\n",
    "    for angles in  os.listdir(parent_dir+name):\n",
    "        angles = angles + '/'\n",
    "        for angle in  os.listdir(parent_dir+name+angles): \n",
    "            #print(angle)\n",
    "            angle = angle + '/'\n",
    "            #path_image.append(parent_dir+name+angles+angle)\n",
    "            for i in os.listdir(parent_dir+name+angles+angle):\n",
    "                #print(i)\n",
    "                #i = i+'/'\n",
    "                \n",
    "                #image = cv2.imread(parent_dir+name+angles+angle+i, cv2.COLOR_BGR2GRAY)\n",
    "#                 print(image)\n",
    "                #cv2.imshow('image',image)\n",
    "                #plt.imshow(image)\n",
    "                \n",
    "                #print(type(image))\n",
    "                #print(i)\n",
    "                #_, contour, _ = cv2.findContours(image, cv2.RETR_EXTERNAL, cv2.CHAIN_APPROX_SIMPLE)\n",
    "                #print(\"success\")\n",
    "                #print(contour)\n",
    "                #cnt = contour[0]\n",
    "                #print(cnt)\n",
    "                #print('###############')\n",
    "                #x, y, w, h = cv2.boundingRect(cnt)\n",
    "                #print(contour)\n",
    "                #print(x, y, w, h)\n",
    "                #crop = image[y - 10:y + h + 10, x - 10:x + w + 10]\n",
    "                directory = path_to_store+name+angles+angle\n",
    "                if not os.path.exists(directory):\n",
    "                    \n",
    "                    os.makedirs(directory)\n",
    "                #crop = cv2.resize(crop,(40,50))\n",
    "                #cv2.imwrite(path_to_store+i, crop)\n",
    "                \n",
    "            \n",
    "        \n",
    "    "
   ]
  },
  {
   "cell_type": "code",
   "execution_count": null,
   "metadata": {
    "scrolled": false
   },
   "outputs": [],
   "source": [
    "tic = time.time()\n",
    "# do stuff\n",
    "\n",
    "\n",
    "\n",
    "count = 0\n",
    "for name in os.listdir(parent_dir):\n",
    "   \n",
    "    name = name +'/'\n",
    "    for angles in  os.listdir(parent_dir+name):\n",
    "        angles = angles + '/'\n",
    "        for angle in  os.listdir(parent_dir+name+angles): \n",
    "            #print(angle)\n",
    "            angle = angle + '/'\n",
    "            #path_image.append(parent_dir+name+angles+angle)\n",
    "            for i in os.listdir(parent_dir+name+angles+angle):\n",
    "                try:\n",
    "                    #print(i)\n",
    "                    #i = i+'/'\n",
    "\n",
    "                    image = cv2.imread(parent_dir+name+angles+angle+i, 0)\n",
    "                    #print(image)\n",
    "                    #cv2.imshow('image',image)\n",
    "                    #plt.imshow(image)\n",
    "\n",
    "                    #print(type(image))\n",
    "                    #print(i)\n",
    "                    _, contour, _ = cv2.findContours(image, cv2.RETR_EXTERNAL, cv2.CHAIN_APPROX_SIMPLE)\n",
    "                    #print(\"success\")\n",
    "                    #print(contour)\n",
    "                    cnt = contour[0]\n",
    "                    #print(cnt)\n",
    "                    #print('###############')\n",
    "                    x, y, w, h = cv2.boundingRect(cnt)\n",
    "                    #print(contour)\n",
    "                    #print(x, y, w, h)\n",
    "                    crop = image[y - 10:y + h + 10, x - 10:x + w + 10]\n",
    "                    crop = cv2.resize(crop,(90,120))\n",
    "                    cv2.imwrite(path_to_store+name+angles+angle+i, crop)\n",
    "                    count+=1\n",
    "                    if count%1000 == 0: print(count)\n",
    "                except Exception as e:\n",
    "                    #print(str(e))\n",
    "\n",
    "print(count)\n",
    "toc = time.time()\n",
    "print((toc-tic) /3600)"
   ]
  },
  {
   "cell_type": "code",
   "execution_count": null,
   "metadata": {},
   "outputs": [],
   "source": [
    "\n",
    "if not os.path.exists(directory):\n",
    "    os.makedirs(directory)"
   ]
  },
  {
   "cell_type": "code",
   "execution_count": null,
   "metadata": {},
   "outputs": [],
   "source": []
  },
  {
   "cell_type": "code",
   "execution_count": null,
   "metadata": {},
   "outputs": [],
   "source": [
    "for name in os.listdir(parent_dir):\n",
    "\n",
    "    name = name +'/'\n",
    "    for angles in  os.listdir(parent_dir+name):\n",
    "        angles = angles + '/'\n",
    "        for angle in  os.listdir(parent_dir+name+angles): \n",
    "            # print(angle)\n",
    "            angle = angle + '/'\n",
    "            #path_image.append(parent_dir+name+angles+angle)\n",
    "            for i in os.listdir(parent_dir+name+angles+angle):\n",
    "                i = i+'/'\n",
    "                image = cv2.imread(parent_dir+name+angles+angle+i, 0)\n",
    "\n",
    "            \n",
    "                arr = np.asarray(image, dtype=int)\n",
    "                pic_num += 1\n",
    "                img_arr = img_arr + arr\n",
    "\n",
    "                gei = img_arr / pic_num\n",
    "\n",
    "   \n",
    "                cv2.imwrite('./' + str(name+angles+angle+i+'_'+flag) + \".png\", gei)\n",
    "                flag+=1\n",
    "                break\n",
    "            break\n",
    "        break\n",
    "    break"
   ]
  },
  {
   "cell_type": "code",
   "execution_count": null,
   "metadata": {},
   "outputs": [],
   "source": []
  }
 ],
 "metadata": {
  "kernelspec": {
   "display_name": "Python 3 (ipykernel)",
   "language": "python",
   "name": "python3"
  },
  "language_info": {
   "codemirror_mode": {
    "name": "ipython",
    "version": 3
   },
   "file_extension": ".py",
   "mimetype": "text/x-python",
   "name": "python",
   "nbconvert_exporter": "python",
   "pygments_lexer": "ipython3",
   "version": "3.9.7"
  }
 },
 "nbformat": 4,
 "nbformat_minor": 2
}
